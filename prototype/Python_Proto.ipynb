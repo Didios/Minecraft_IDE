{
  "cells": [
    {
      "cell_type": "code",
      "source": [
        "# cut line to make list of argument\n",
        "def lineToList(line):\n",
        "  args = []\n",
        "\n",
        "  if line[0] == \"/\":\n",
        "    line = line[1::]\n",
        "  \n",
        "  new = True\n",
        "  inside = 0\n",
        "  i = 0\n",
        "  while i < len(line):\n",
        "    if new:\n",
        "      args += [\"\"]\n",
        "\n",
        "    new = True\n",
        "    \n",
        "    if line[i] == '\"':\n",
        "      args[-1] += '\"'\n",
        "      i+=1\n",
        "      while line[i] != '\"':\n",
        "        args[-1] += line[i]\n",
        "        i+=1\n",
        "      args[-1] += '\"'\n",
        "    elif line[i] != \" \":\n",
        "      args[-1] += line[i]\n",
        "      new = False\n",
        "    \n",
        "    i+=1\n",
        "  \n",
        "  return args\n",
        "\n",
        "print(lineToList('\"ceci est un test\" test \"retest du futur\"'))"
      ],
      "outputs": [
        {
          "output_type": "stream",
          "name": "stdout",
          "text": [
            "['\"ceci est un test\"', '', 'test', '\"retest du futur\"']\n"
          ]
        }
      ],
      "execution_count": 11,
      "metadata": {
        "collapsed": true,
        "jupyter": {
          "source_hidden": false,
          "outputs_hidden": false
        },
        "nteract": {
          "transient": {
            "deleting": false
          }
        },
        "execution": {
          "iopub.status.busy": "2022-12-18T16:28:14.620Z",
          "iopub.execute_input": "2022-12-18T16:28:14.633Z",
          "iopub.status.idle": "2022-12-18T16:28:14.662Z",
          "shell.execute_reply": "2022-12-18T16:28:14.674Z"
        }
      }
    },
    {
      "cell_type": "code",
      "source": [
        "# enum class implementation\n",
        "from enum import Enum\n",
        "\n",
        "class Type(Enum):\n",
        "  Null = -1\n",
        "  Int = 0\n",
        "  String = 1\n",
        "\n",
        "def findType(string):\n",
        "  if \"@\" not in string:\n",
        "    return Type.Null\n",
        "  \n",
        "  if string == \"@int\":\n",
        "    return Type.Int\n",
        "  elif string == \"@string\":\n",
        "    return Type.String\n",
        "  \n",
        "  return Type.Null\n",
        "\n",
        "def testType(_type, value):\n",
        "  \n",
        "  if _type == Type.Int:\n",
        "    for char in value:\n",
        "      if char not in [\"0\", \"1\", \"2\", \"3\", \"4\", \"5\", \"6\", \"7\", \"8\", \"9\", \"-\"]:\n",
        "        return False\n",
        "  elif _type == Type.String:\n",
        "    return True\n",
        "  \n",
        "  return True"
      ],
      "outputs": [],
      "execution_count": 43,
      "metadata": {
        "collapsed": true,
        "jupyter": {
          "source_hidden": false,
          "outputs_hidden": false
        },
        "nteract": {
          "transient": {
            "deleting": false
          }
        },
        "execution": {
          "iopub.status.busy": "2022-12-11T12:40:47.281Z",
          "iopub.execute_input": "2022-12-11T12:40:47.296Z",
          "iopub.status.idle": "2022-12-11T12:40:47.322Z",
          "shell.execute_reply": "2022-12-11T12:40:47.339Z"
        }
      }
    },
    {
      "cell_type": "code",
      "source": [
        "# new check for @\n",
        "\n",
        "\n",
        "def checkSpecial(structure, value):\n",
        "  #determine options\n",
        "  options = []\n",
        "  while structure[-2] == \"-\":\n",
        "    options += [structure[-2:0]]\n",
        "    structure = structure[0:-2]\n",
        "  \n",
        "  # check value\n",
        "  if structure == \"@int\":\n",
        "    number = 0\n",
        "    multi = 1\n",
        "    for char in value[0]:\n",
        "      if char not in [\"0\", \"1\", \"2\", \"3\", \"4\", \"5\", \"6\", \"7\", \"8\", \"9\", \"-\"]:\n",
        "        return (False, \"Impossible int\", 0)\n",
        "      else:\n",
        "        if char == \"-\":\n",
        "          if multi == 1:\n",
        "            multi *= -1\n",
        "          else:\n",
        "            return (False, \"No Operation Inside Int\", 0)\n",
        "        else:\n",
        "          number += int(char) * multi\n",
        "          multi *= 10\n",
        "    \n",
        "    if \"-+\" in options and number < 0:\n",
        "      return (False, \"Int must be greater or equal to 0\", 0)\n",
        "    \n",
        "    if \"-1\" in options and number < 1:\n",
        "      return (False, \"Int must be greater or equal to 1\")\n",
        "    \n",
        "    if \"-p\" in options and (number < 0 or number > 65535):\n",
        "      return (False, \"Int must be between 0 and 65535\")\n",
        "    \n",
        "    return (True, \"\", 0)\n",
        "  elif structure == \"@string\":\n",
        "    if \"-l\" in options:\n",
        "        return (True, \"\", len(value))\n",
        "    else:\n",
        "        return (True, \"\", 0)\n",
        "  elif structure == \"@float\":\n",
        "    i = 0\n",
        "    while i < len(value[0]):\n",
        "      if value[0][i] not in [\"0\", \"1\", \"2\", \"3\", \"4\", \"5\", \"6\", \"7\", \"8\", \"9\", \"-\", \".\"] or (i == len(value[0]) -1 and value[0][i] == \"F\"):\n",
        "        return (False, \"Impossible float\", 0)\n",
        "      i += 1\n",
        "    return (True, \"\", 0)\n",
        "  \n",
        "  # return (resultCheck, reason, value needed)\n",
        "  return (False, \"Type of \" + structure + \" is not defined\", 0)"
      ],
      "outputs": [],
      "execution_count": 2,
      "metadata": {
        "collapsed": true,
        "jupyter": {
          "source_hidden": false,
          "outputs_hidden": false
        },
        "nteract": {
          "transient": {
            "deleting": false
          }
        },
        "execution": {
          "iopub.status.busy": "2022-12-11T15:47:54.821Z",
          "iopub.execute_input": "2022-12-11T15:47:54.848Z",
          "iopub.status.idle": "2022-12-11T15:47:54.901Z",
          "shell.execute_reply": "2022-12-11T15:47:54.922Z"
        }
      }
    },
    {
      "cell_type": "code",
      "source": [
        "# check if line correspond to next\n",
        "nextLength = len(next)\n",
        "argsIndex = 0\n",
        "\n",
        "if nextLength == 0:\n",
        "    print(True)\n",
        "else:\n",
        "    for i in range(nextLength):\n",
        "      underNext = next[i]\n",
        "      underNextLength = len(next[i])\n",
        "      for j in range(underNextLength):\n",
        "        # get data\n",
        "        category = underNext[j]\n",
        "        value = args[argsIndex]\n",
        "        options = []\n",
        "        print(\"Check :\", category, value)\n",
        "        \n",
        "        # detect options\n",
        "        while category == \"-\":\n",
        "          options += [category[0:-2]]\n",
        "          category = category[0:-2]\n",
        "        \n",
        "        if options != []:\n",
        "          print(\"options :\", options)\n",
        "        \n",
        "        # check no type\n",
        "        category = findType(category)\n",
        "        if category == Type.Null:\n",
        "          print(False)\n",
        "        \n",
        "        # check value\n",
        "        if not testType(category, value):\n",
        "          print(\"Maybe False\")\n",
        "        else:\n",
        "          print(True)\n",
        "          \n",
        "        argsIndex += 1"
      ],
      "outputs": [
        {
          "output_type": "stream",
          "name": "stdout",
          "text": [
            "Check : @int 10\n",
            "True\n",
            "Check : @int 2\n",
            "True\n"
          ]
        }
      ],
      "execution_count": 26,
      "metadata": {
        "collapsed": true,
        "jupyter": {
          "source_hidden": false,
          "outputs_hidden": false
        },
        "nteract": {
          "transient": {
            "deleting": false
          }
        },
        "execution": {
          "shell.execute_reply": "2022-12-11T08:18:37.352Z",
          "iopub.status.busy": "2022-12-11T08:18:37.295Z",
          "iopub.execute_input": "2022-12-11T08:18:37.307Z",
          "iopub.status.idle": "2022-12-11T08:18:37.338Z"
        }
      }
    },
    {
      "cell_type": "code",
      "source": [
        "string = \"test\"\n",
        "print(string[-1])\n",
        "print(string[0::])\n",
        "print(string[0:-1])"
      ],
      "outputs": [
        {
          "output_type": "stream",
          "name": "stdout",
          "text": [
            "t\n",
            "test\n",
            "tes\n"
          ]
        }
      ],
      "execution_count": 10,
      "metadata": {
        "collapsed": true,
        "jupyter": {
          "source_hidden": false,
          "outputs_hidden": false
        },
        "nteract": {
          "transient": {
            "deleting": false
          }
        },
        "execution": {
          "iopub.status.busy": "2022-12-11T07:51:55.892Z",
          "iopub.execute_input": "2022-12-11T07:51:55.903Z",
          "iopub.status.idle": "2022-12-11T07:51:55.928Z",
          "shell.execute_reply": "2022-12-11T07:51:55.937Z"
        }
      }
    },
    {
      "cell_type": "code",
      "source": [
        "import json\n",
        "\n",
        "file = open(\"data/1.19.2/commands.json\")\n",
        "data = json.load(file)\n",
        "file.close()\n",
        "\n",
        "data_file = {}\n",
        "\n",
        "file = open(\"data/1.19.2/advancement.json\")\n",
        "data_file[\"advancement\"] = json.load(file)[\"a_data\"]\n",
        "file.close()\n",
        "\n",
        "file = open(\"data/1.19.2/attribute.json\")\n",
        "data_file[\"attribute\"] = json.load(file)[\"a_data\"]\n",
        "file.close()\n",
        "\n",
        "file = open(\"data/1.19.2/biome.json\")\n",
        "data_file[\"biome\"] = json.load(file)[\"a_data\"]\n",
        "file.close()\n",
        "\n",
        "file = open(\"data/1.19.2/block.json\")\n",
        "data_file[\"block\"] = json.load(file)[\"a_data\"]\n",
        "file.close()\n",
        "\n",
        "file = open(\"data/1.19.2/color.json\")\n",
        "data_file[\"color\"] = json.load(file)[\"a_data\"]\n",
        "file.close()\n",
        "\n",
        "file = open(\"data/1.19.2/difficulty.json\")\n",
        "data_file[\"difficulty\"] = json.load(file)[\"a_data\"]\n",
        "file.close()\n",
        "\n",
        "file = open(\"data/1.19.2/dimension.json\")\n",
        "data_file[\"dimension\"] = json.load(file)[\"a_data\"]\n",
        "file.close()\n",
        "\n",
        "file = open(\"data/1.19.2/effect.json\")\n",
        "data_file[\"effect\"] = json.load(file)[\"a_data\"]\n",
        "file.close()\n",
        "\n",
        "file = open(\"data/1.19.2/enchantment.json\")\n",
        "data_file[\"enchantment\"] = json.load(file)[\"a_data\"]\n",
        "file.close()\n",
        "\n",
        "file = open(\"data/1.19.2/feature.json\")\n",
        "data_file[\"feature\"] = json.load(file)[\"a_data\"]\n",
        "file.close()\n",
        "\n",
        "file = open(\"data/1.19.2/gamemode.json\")\n",
        "data_file[\"gamemode\"] = json.load(file)[\"a_data\"]\n",
        "file.close()\n",
        "\n",
        "file = open(\"data/1.19.2/gamerule.json\")\n",
        "data_file[\"gamerule\"] = json.load(file)[\"a_data\"]\n",
        "file.close()\n",
        "\n",
        "file = open(\"data/1.19.2/mob.json\")\n",
        "data_file[\"mob\"] = json.load(file)[\"a_data\"]\n",
        "file.close()\n",
        "\n",
        "file = open(\"data/1.19.2/particle.json\")\n",
        "data_file[\"particle\"] = json.load(file)[\"a_data\"]\n",
        "file.close()\n",
        "\n",
        "file = open(\"data/1.19.2/poi.json\")\n",
        "data_file[\"poi\"] = json.load(file)[\"a_data\"]\n",
        "file.close()\n",
        "\n",
        "file = open(\"data/1.19.2/position.json\")\n",
        "data_file[\"position\"] = json.load(file)[\"a_data\"]\n",
        "file.close()\n",
        "\n",
        "file = open(\"data/1.19.2/slot.json\")\n",
        "data_file[\"slot\"] = json.load(file)[\"a_data\"]\n",
        "file.close()\n",
        "\n",
        "file = open(\"data/1.19.2/source.json\")\n",
        "data_file[\"source\"] = json.load(file)[\"a_data\"]\n",
        "file.close()\n",
        "\n",
        "file = open(\"data/1.19.2/structure.json\")\n",
        "data_file[\"structure\"] = json.load(file)[\"a_data\"]\n",
        "file.close()\n",
        "\n",
        "print(\"File Load !\")#, data_file)\n"
      ],
      "outputs": [
        {
          "output_type": "stream",
          "name": "stdout",
          "text": [
            "File Load !\n"
          ]
        }
      ],
      "execution_count": 4,
      "metadata": {
        "collapsed": true,
        "jupyter": {
          "source_hidden": false,
          "outputs_hidden": false
        },
        "nteract": {
          "transient": {
            "deleting": false
          }
        },
        "execution": {
          "iopub.status.busy": "2022-12-18T16:15:31.920Z",
          "iopub.execute_input": "2022-12-18T16:15:31.942Z",
          "iopub.status.idle": "2022-12-18T16:15:31.989Z",
          "shell.execute_reply": "2022-12-18T16:15:32.004Z"
        }
      }
    },
    {
      "cell_type": "code",
      "source": [
        "# DEBUG ALGORYTHM\n",
        "\n",
        "def debug(args, data, index = \"null\"):\n",
        "  subdata = data[index]\n",
        "  name = subdata[\"name\"]\n",
        "  \n",
        "  # check name\n",
        "  if name != \"@null\" and args[0] != name:\n",
        "    return (False, \"Command syntax error on :\", args[0])\n",
        "  \n",
        "  followdata = subdata[\"next\"]\n",
        "  for subfollow in followdata:    \n",
        "    # check data integrity\n",
        "    if type(subfollow) != list:\n",
        "      return (False, \"File syntax error\")\n",
        "    \n",
        "    tocheck = 1\n",
        "    if name == \"@null\":\n",
        "      tocheck = 0\n",
        "      \n",
        "    if tocheck >= len(args):\n",
        "      return (False, \"Command is incomplete\")\n",
        "    \n",
        "####    print(\"BEGIN\", args[tocheck])\n",
        "    optionnal = False\n",
        "  \n",
        "    optionnal = False\n",
        "    result = (False, \"Undetermined\")\n",
        "    for follow in subfollow:\n",
        "      \n",
        "      # check if optionnal\n",
        "      if follow[-2:0] == \"--\":\n",
        "        follow = follow[0:-2]\n",
        "        optionnal = True\n",
        "      \n",
        "      if type(follow) != str:\n",
        "        return (False, \"File data error\")\n",
        "      \n",
        "      if \"@\" in follow:\n",
        "        result = checkSpecial(follow, args[tocheck::])\n",
        "####        print(args[1::], result)\n",
        "        if result[0]:\n",
        "          tocheck += result[2]\n",
        "          break;\n",
        "      else:\n",
        "        namecheck = data[follow][\"name\"]\n",
        "####        print(namecheck)\n",
        "        if args[tocheck] == namecheck or namecheck == \"@null\":\n",
        "          result = debug(args[tocheck::], data, follow)\n",
        "          if result[0]:\n",
        "            break;\n",
        "    \n",
        "    if not result[0] and not optionnal:\n",
        "####      print(\"END\", args[tocheck])\n",
        "      return result\n",
        "  \n",
        "  return (True, \"\")\n",
        "\n",
        "command = \"/execute run say hello world!\"\n",
        "commandList = lineToList(command)\n",
        "print(\"List:\", commandList)\n",
        "debug(commandList, data)\n"
      ],
      "outputs": [
        {
          "output_type": "stream",
          "name": "stdout",
          "text": [
            "List: ['execute', 'run', 'say', 'hello', 'world!']\n"
          ]
        },
        {
          "output_type": "execute_result",
          "execution_count": 5,
          "data": {
            "text/plain": "(True, '')"
          },
          "metadata": {}
        }
      ],
      "execution_count": 5,
      "metadata": {
        "collapsed": true,
        "jupyter": {
          "source_hidden": false,
          "outputs_hidden": false
        },
        "nteract": {
          "transient": {
            "deleting": false
          }
        },
        "execution": {
          "iopub.status.busy": "2022-12-11T15:48:24.501Z",
          "iopub.execute_input": "2022-12-11T15:48:24.519Z",
          "iopub.status.idle": "2022-12-11T15:48:24.679Z",
          "shell.execute_reply": "2022-12-11T15:48:24.704Z"
        }
      }
    },
    {
      "cell_type": "code",
      "source": [
        "command = [\n",
        "  \"/worldborder set 10 10\",\n",
        "  \"/function test:test\",\n",
        "  \"say\",\n",
        "]\n",
        "\n",
        "for c in command:\n",
        "  cList = lineToList(c)\n",
        "  result = debug(cList, data)\n",
        "  print(\"List:\", cList, \" -\", result)"
      ],
      "outputs": [
        {
          "output_type": "stream",
          "name": "stdout",
          "text": [
            "List: ['worldborder', 'set', '10', '10']  - (True, '')\n",
            "List: ['function', 'test:test']  - (False, 'Type of @function is not defined', 0)\n",
            "List: ['say']  - (False, 'Command is incomplete')\n"
          ]
        }
      ],
      "execution_count": 6,
      "metadata": {
        "collapsed": true,
        "jupyter": {
          "source_hidden": false,
          "outputs_hidden": false
        },
        "nteract": {
          "transient": {
            "deleting": false
          }
        },
        "execution": {
          "iopub.status.busy": "2022-12-11T15:48:30.547Z",
          "iopub.execute_input": "2022-12-11T15:48:30.567Z",
          "iopub.status.idle": "2022-12-11T15:48:30.612Z",
          "shell.execute_reply": "2022-12-11T15:48:30.627Z"
        }
      }
    },
    {
      "cell_type": "code",
      "source": [],
      "outputs": [],
      "execution_count": null,
      "metadata": {
        "collapsed": true,
        "jupyter": {
          "source_hidden": false,
          "outputs_hidden": false
        },
        "nteract": {
          "transient": {
            "deleting": false
          }
        }
      }
    }
  ],
  "metadata": {
    "kernel_info": {
      "name": "python3"
    },
    "language_info": {
      "name": "python",
      "version": "3.8.5",
      "mimetype": "text/x-python",
      "codemirror_mode": {
        "name": "ipython",
        "version": 3
      },
      "pygments_lexer": "ipython3",
      "nbconvert_exporter": "python",
      "file_extension": ".py"
    },
    "kernelspec": {
      "argv": [
        "C:\\Winpython\\python-3.8.5.amd64\\python.exe",
        "-m",
        "ipykernel_launcher",
        "-f",
        "{connection_file}"
      ],
      "display_name": "Python 3",
      "language": "python",
      "name": "python3"
    },
    "nteract": {
      "version": "0.28.0"
    }
  },
  "nbformat": 4,
  "nbformat_minor": 0
}